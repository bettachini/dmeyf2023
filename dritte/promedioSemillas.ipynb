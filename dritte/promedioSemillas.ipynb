{
 "cells": [
  {
   "cell_type": "code",
   "execution_count": null,
   "metadata": {},
   "outputs": [],
   "source": [
    "# última corrida\n",
    "sendero_base = '~/documents/universitet/FCEyN/maestríaDatos/economiaFinanzas/buckets/b1/exp/'\n",
    "sendero_corrida = ''"
   ]
  },
  {
   "cell_type": "markdown",
   "metadata": {},
   "source": [
    "No se puede hacer con descarga que se realizaría con \n",
    "```{bash}\n",
    "gsutil -m cp -r \\\n",
    "  \"gs://normanbuck/exp/dritte824_1222\" \\\n",
    "  .\n",
    "```\n",
    "\n",
    "Ocupa el directorio 16 GB por culpa del `.RData` de 11.9 GB. "
   ]
  },
  {
   "cell_type": "code",
   "execution_count": 1,
   "metadata": {},
   "outputs": [
    {
     "name": "stdout",
     "output_type": "stream",
     "text": [
      "/home/vbettachini/documents/universitet/FCEyN/maestríaDatos/economíaFinanzas/dmeyf2023/dritte\n"
     ]
    }
   ],
   "source": [
    "!pwd"
   ]
  },
  {
   "cell_type": "code",
   "execution_count": null,
   "metadata": {},
   "outputs": [],
   "source": [
    "# promediaré la probababilides en los csv para cada número de envíos"
   ]
  }
 ],
 "metadata": {
  "kernelspec": {
   "display_name": "jupyter",
   "language": "python",
   "name": "python3"
  },
  "language_info": {
   "codemirror_mode": {
    "name": "ipython",
    "version": 3
   },
   "file_extension": ".py",
   "mimetype": "text/x-python",
   "name": "python",
   "nbconvert_exporter": "python",
   "pygments_lexer": "ipython3",
   "version": "3.11.2"
  },
  "orig_nbformat": 4
 },
 "nbformat": 4,
 "nbformat_minor": 2
}
